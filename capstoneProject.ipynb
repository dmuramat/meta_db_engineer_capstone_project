{
 "cells": [
  {
   "cell_type": "markdown",
   "id": "5883e457-39ed-442c-abcb-80d6eeeee42a",
   "metadata": {},
   "source": [
    "# set up connection"
   ]
  },
  {
   "cell_type": "code",
   "execution_count": 1,
   "id": "0b07a505-5a30-43c0-90b7-a5453881c15d",
   "metadata": {},
   "outputs": [],
   "source": [
    "import mysql.connector as connector\n",
    "import getpass"
   ]
  },
  {
   "cell_type": "code",
   "execution_count": 4,
   "id": "15343a02-5ed6-433c-a4ae-bbc269b82048",
   "metadata": {},
   "outputs": [
    {
     "name": "stdin",
     "output_type": "stream",
     "text": [
      " ········\n"
     ]
    }
   ],
   "source": [
    "pwd = getpass.getpass()\n",
    "connection = connector.connect(user = 'D.Muramatsu', \n",
    "                               password = pwd,\n",
    "                              database = 'LittleLemonDB')\n",
    "del(pwd)"
   ]
  },
  {
   "cell_type": "markdown",
   "id": "69c24efa-fd7f-453b-8505-b1ae0ccf52e2",
   "metadata": {},
   "source": [
    "# set up corsor and test"
   ]
  },
  {
   "cell_type": "code",
   "execution_count": 8,
   "id": "f307c509-da49-467e-92bb-e61dc13c21f3",
   "metadata": {},
   "outputs": [],
   "source": [
    "cursor = connection.cursor()"
   ]
  },
  {
   "cell_type": "code",
   "execution_count": 14,
   "id": "945f6af3-ab1e-411d-ac4d-bb3684bd68dc",
   "metadata": {},
   "outputs": [],
   "source": [
    "query = \"SHOW tables;\"\n",
    "cursor.execute(query)\n",
    "result = cursor.fetchall()"
   ]
  },
  {
   "cell_type": "code",
   "execution_count": 16,
   "id": "70099edc-e027-4a5d-9d1a-7b3d5e8579b2",
   "metadata": {},
   "outputs": [
    {
     "name": "stdout",
     "output_type": "stream",
     "text": [
      "[('Bookings',), ('CustomerDetails',), ('MenuItems',), ('Menus',), ('OrderDelivaryStatus',), ('Orders',), ('ordersview',), ('StaffInformation',)]\n"
     ]
    }
   ],
   "source": [
    "print(result)"
   ]
  },
  {
   "cell_type": "markdown",
   "id": "a06c7e0c-038a-4762-b7fa-c08788140ab6",
   "metadata": {},
   "source": [
    "# set up query"
   ]
  },
  {
   "cell_type": "code",
   "execution_count": 24,
   "id": "226c0af7-2b9f-4f48-b75a-51426b469e07",
   "metadata": {},
   "outputs": [
    {
     "name": "stdout",
     "output_type": "stream",
     "text": [
      "selecting full name, address, phone number and bill:\n",
      "('Rainer Vorlaeufer', 'ACdress', '12345678890', Decimal('65.00'))\n",
      "('Rainer Vorlaeufer', 'ACdress', '12345678890', Decimal('120.00'))\n",
      "('Rei Tanaka', 'AnAddress', '12345678890', Decimal('150.00'))\n",
      "('Carla Osian', 'ABdress', '12345678890', Decimal('220.00'))\n",
      "('Rainer Vorlaeufer', 'ACdress', '12345678890', Decimal('65.00'))\n",
      "('Rainer Vorlaeufer', 'ACdress', '12345678890', Decimal('300.00'))\n"
     ]
    }
   ],
   "source": [
    "query_customers = \"\"\"SELECT CONCAT(FirstName, ' ', SecondName) AS 'Full Name', Address, PhoneNumber, Orders.TotalCost FROM CustomerDetails \n",
    "                    INNER JOIN Bookings ON CustomerDetails.CustomerID = Bookings.CustomerID \n",
    "                    INNER JOIN Orders ON Bookings.BookingID = Orders.BookingID \n",
    "                    WHERE Orders.TotalCost > 60.00;\"\"\"\n",
    "cursor.execute(query_customers)\n",
    "result_customers = cursor.fetchall()\n",
    "\n",
    "print(\"selecting full name, address, phone number and bill:\")\n",
    "\n",
    "for line in result_customers:\n",
    "    print(line)"
   ]
  },
  {
   "cell_type": "code",
   "execution_count": null,
   "id": "9f8fa657-50cf-46a4-9580-33a0989f07ff",
   "metadata": {},
   "outputs": [],
   "source": []
  }
 ],
 "metadata": {
  "kernelspec": {
   "display_name": "Python 3",
   "language": "python",
   "name": "python3"
  },
  "language_info": {
   "codemirror_mode": {
    "name": "ipython",
    "version": 3
   },
   "file_extension": ".py",
   "mimetype": "text/x-python",
   "name": "python",
   "nbconvert_exporter": "python",
   "pygments_lexer": "ipython3",
   "version": "3.9.18"
  }
 },
 "nbformat": 4,
 "nbformat_minor": 5
}
